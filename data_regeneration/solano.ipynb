{
 "metadata": {
  "name": "",
  "signature": "sha256:cf3261ece1b79426166f91e7712c498b4d4c5834e07257db5592e95af4c5b6a0"
 },
 "nbformat": 3,
 "nbformat_minor": 0,
 "worksheets": [
  {
   "cells": [
    {
     "cell_type": "code",
     "collapsed": false,
     "input": [
      "import pandas as pd\n",
      "import psycopg2\n",
      "from spandex import utils, spatialtoolz\n",
      "from spandex.database import database as db\n",
      "import numpy as np\n",
      "import cStringIO\n",
      "import pandas.io.sql as sql\n",
      "\n",
      "conn_string = \"host='localhost' dbname='bayarea_test' user='postgres' password='postgres' port=5432\"\n",
      "# db.connect(conn_string)\n",
      "\n",
      "def exec_sql(query):\n",
      "    conn=psycopg2.connect(conn_string)\n",
      "    cur = conn.cursor()\n",
      "    cur.execute(query)\n",
      "    conn.commit()\n",
      "    cur.close()\n",
      "    conn.close()\n",
      "    \n",
      "def db_to_df(query):\n",
      "    conn=psycopg2.connect(conn_string)\n",
      "    df = sql.read_frame(query, conn)\n",
      "    conn.close()\n",
      "    return df"
     ],
     "language": "python",
     "metadata": {},
     "outputs": [],
     "prompt_number": 1
    },
    {
     "cell_type": "code",
     "collapsed": false,
     "input": [
      "#Parcel ownership records and attributes lie with the point data, 'contra_costa_pt'.  Select columns based on data dictionary\n",
      "sol_parcels = db_to_df(\"select gid, apn, usecode, pdareafst, pdareasnd, 1 as stories, lotsize, pdyrblt, valimp, valland FROM staging.parcels_solano;\")"
     ],
     "language": "python",
     "metadata": {},
     "outputs": [
      {
       "output_type": "stream",
       "stream": "stderr",
       "text": [
        "c:\\Anaconda\\lib\\site-packages\\pandas\\io\\sql.py:1165: FutureWarning: read_frame is depreciated, use read_sql\n",
        "  warnings.warn(\"read_frame is depreciated, use read_sql\", FutureWarning)\n"
       ]
      }
     ],
     "prompt_number": 2
    },
    {
     "cell_type": "code",
     "collapsed": false,
     "input": [
      "sol_parcels = sol_parcels.rename(columns={'pdyrblt':'year_built','valimp':'improvement_value','valland':'land_value','usecode':'land_use_type_id'})\n",
      "sol_parcels['building_sqft'] = sol_parcels.pdareafst + sol_parcels.pdareasnd\n",
      "sol_parcels['residential_units'] = 0\n",
      "sol_parcels.residential_units[sol_parcels.land_use_type_id==1000] = 1\n",
      "sol_parcels['tax_exempt_status'] = 0\n",
      "sol_parcels['county_id'] = 95\n",
      "sol_parcels['sqft_per_unit'] = 0\n",
      "sol_parcels['non_residential_sqft'] = 0 "
     ],
     "language": "python",
     "metadata": {},
     "outputs": [],
     "prompt_number": 3
    },
    {
     "cell_type": "code",
     "collapsed": false,
     "input": [
      "required_fields = ['gid','residential_units','improvement_value','year_built','land_use_type_id','apn','land_value', 'stories','building_sqft','tax_exempt_status',\n",
      "                   'county_id','sqft_per_unit','non_residential_sqft']\n",
      "parcels = sol_parcels[required_fields]"
     ],
     "language": "python",
     "metadata": {},
     "outputs": [],
     "prompt_number": 4
    },
    {
     "cell_type": "code",
     "collapsed": false,
     "input": [
      "int_fields = ['gid','residential_units','building_sqft','year_built','land_use_type_id','tax_exempt_status','stories','county_id','sqft_per_unit', 'non_residential_sqft']\n",
      "for field in int_fields:\n",
      "    parcels[field] = parcels[field].fillna(0).astype('int32')\n",
      "    \n",
      "float_fields = ['improvement_value', 'land_value']\n",
      "for field in float_fields:\n",
      "    parcels[field] = parcels[field].fillna(0).astype('float32')"
     ],
     "language": "python",
     "metadata": {},
     "outputs": [
      {
       "output_type": "stream",
       "stream": "stderr",
       "text": [
        "-c:3: SettingWithCopyWarning: A value is trying to be set on a copy of a slice from a DataFrame.\n",
        "Try using .loc[row_index,col_indexer] = value instead\n",
        "-c:7: SettingWithCopyWarning: A value is trying to be set on a copy of a slice from a DataFrame.\n",
        "Try using .loc[row_index,col_indexer] = value instead\n"
       ]
      }
     ],
     "prompt_number": 5
    },
    {
     "cell_type": "code",
     "collapsed": false,
     "input": [
      "def create_parcels_table(parcels_df,table_name):\n",
      "    exec_sql(\"drop table if exists %s\" % table_name)\n",
      "\n",
      "    exec_sql(\"\"\"create table %s (gid integer, residential_units integer, building_sqft integer, improvement_value numeric,\n",
      "    land_value numeric, year_built integer, land_use_type_id integer, tax_exempt_status integer, stories integer,\n",
      "    apn text, county_id integer, sqft_per_unit integer, non_residential_sqft integer);\"\"\" % table_name)\n",
      "    \n",
      "    output = cStringIO.StringIO()\n",
      "    parcels_df.to_csv(output, sep='\\t', header=False, index=False)\n",
      "    output.seek(0)\n",
      "    conn=psycopg2.connect(conn_string)\n",
      "    cur = conn.cursor()\n",
      "    cur.copy_from(output, table_name, columns =tuple(parcels_df.columns.values.tolist()))\n",
      "    conn.commit()\n",
      "    \n",
      "#Load formatted table back to db\n",
      "create_parcels_table(parcels, 'parcels_solano_formatted')"
     ],
     "language": "python",
     "metadata": {},
     "outputs": [],
     "prompt_number": 6
    },
    {
     "cell_type": "code",
     "collapsed": false,
     "input": [
      "#Add the geometry from parcels table (the table with polygons) \n",
      "exec_sql(\"SELECT AddGeometryColumn ('public','parcels_solano_formatted','geom',2227,'MULTIPOLYGON',2)\")\n",
      "exec_sql(\"update parcels_solano_formatted set geom = b.geom from staging.parcels_solano b where parcels_solano_formatted.gid = b.gid\")\n",
      "exec_sql(\"CREATE INDEX psol_gix ON parcels_solano_formatted USING GIST (geom);\")"
     ],
     "language": "python",
     "metadata": {},
     "outputs": [],
     "prompt_number": 7
    },
    {
     "cell_type": "code",
     "collapsed": false,
     "input": [
      "exec_sql(\"ALTER TABLE parcels_solano_formatted ADD PRIMARY KEY (gid)\")"
     ],
     "language": "python",
     "metadata": {},
     "outputs": [],
     "prompt_number": 9
    }
   ],
   "metadata": {}
  }
 ]
}