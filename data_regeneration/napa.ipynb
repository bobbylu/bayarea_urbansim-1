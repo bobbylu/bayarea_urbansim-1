{
 "metadata": {
  "name": "",
  "signature": "sha256:72d9af96a4e513674682940e61fd622b00a43c9f70cf2b11f198148243807c21"
 },
 "nbformat": 3,
 "nbformat_minor": 0,
 "worksheets": [
  {
   "cells": [
    {
     "cell_type": "code",
     "collapsed": false,
     "input": [
      "import pandas as pd\n",
      "import psycopg2\n",
      "from spandex import utils, spatialtoolz\n",
      "from spandex.database import database as db\n",
      "import numpy as np\n",
      "import cStringIO\n",
      "import pandas.io.sql as sql\n",
      "import dbf\n",
      "\n",
      "conn_string = \"host='localhost' dbname='bayarea_test' user='postgres' password='postgres' port=5432\"\n",
      "# db.connect(conn_string)\n",
      "\n",
      "def exec_sql(query):\n",
      "    conn=psycopg2.connect(conn_string)\n",
      "    cur = conn.cursor()\n",
      "    cur.execute(query)\n",
      "    conn.commit()\n",
      "    cur.close()\n",
      "    conn.close()\n",
      "    \n",
      "def db_to_df(query):\n",
      "    conn=psycopg2.connect(conn_string)\n",
      "    df = sql.read_frame(query, conn)\n",
      "    conn.close()\n",
      "    return df"
     ],
     "language": "python",
     "metadata": {},
     "outputs": [],
     "prompt_number": 1
    },
    {
     "cell_type": "code",
     "collapsed": false,
     "input": [
      "##Parcels\n",
      "nap_parcels = db_to_df(\"select gid, asmt, landuse1, floor FROM staging.parcels_napa;\")"
     ],
     "language": "python",
     "metadata": {},
     "outputs": [
      {
       "output_type": "stream",
       "stream": "stderr",
       "text": [
        "c:\\Anaconda\\lib\\site-packages\\pandas\\io\\sql.py:1165: FutureWarning: read_frame is depreciated, use read_sql\n",
        "  warnings.warn(\"read_frame is depreciated, use read_sql\", FutureWarning)\n"
       ]
      }
     ],
     "prompt_number": 2
    },
    {
     "cell_type": "code",
     "collapsed": false,
     "input": [
      "##Buildings\n",
      "table = dbf.Table(\"C:\\\\mtc\\\\data\\\\parcels\\\\napa\\\\napa_buildings.dbf\")\n",
      "dbf.export(table.open(), 'C:\\\\mtc\\\\data\\\\parcels\\\\napa\\\\napa_buildings.csv')\n",
      "nap_buildings = pd.read_csv('C:\\\\mtc\\\\data\\\\parcels\\\\napa\\\\napa_buildings.csv')"
     ],
     "language": "python",
     "metadata": {},
     "outputs": [
      {
       "output_type": "stream",
       "stream": "stderr",
       "text": [
        "c:\\Anaconda\\lib\\site-packages\\pandas\\io\\parsers.py:1130: DtypeWarning: Columns (0) have mixed types. Specify dtype option on import or set low_memory=False.\n",
        "  data = self._reader.read(nrows)\n"
       ]
      }
     ],
     "prompt_number": 3
    },
    {
     "cell_type": "code",
     "collapsed": false,
     "input": [
      "##Taxroll\n",
      "table = dbf.Table(\"C:\\\\mtc\\\\data\\\\parcels\\\\napa\\\\napa_taxroll.dbf\")\n",
      "dbf.export(table.open(), 'C:\\\\mtc\\\\data\\\\parcels\\\\napa\\\\napa_taxroll.csv')\n",
      "nap_taxroll = pd.read_csv('C:\\\\mtc\\\\data\\\\parcels\\\\napa\\\\napa_taxroll.csv')"
     ],
     "language": "python",
     "metadata": {},
     "outputs": [
      {
       "output_type": "stream",
       "stream": "stderr",
       "text": [
        "c:\\Anaconda\\lib\\site-packages\\pandas\\io\\parsers.py:1130: DtypeWarning: Columns (21,26,27,35,36,64) have mixed types. Specify dtype option on import or set low_memory=False.\n",
        "  data = self._reader.read(nrows)\n"
       ]
      }
     ],
     "prompt_number": 4
    },
    {
     "cell_type": "code",
     "collapsed": false,
     "input": [
      "nap_parcels['asmt_int'] = nap_parcels.asmt.astype('int64')\n",
      "nap_taxroll = nap_taxroll.drop_duplicates(cols='asmt', take_last=True)\n",
      "nap_taxroll = nap_taxroll.set_index('asmt')\n",
      "nap_parcels['currentmar'] = nap_taxroll.currentmar[nap_parcels.asmt_int].values\n",
      "nap_parcels['currentnet'] = nap_taxroll.currentnet[nap_parcels.asmt_int].values\n",
      "\n",
      "nap_parcels = nap_parcels.rename(columns={'asmt':'apn','floor':'stories','landuse1':'land_use_type_id','currentmar':'assessed_value'})\n",
      "nap_parcels['land_value'] = nap_parcels.assessed_value\n",
      "nap_parcels['tax_exempt_status'] = 0\n",
      "nap_parcels['county_id'] = 55"
     ],
     "language": "python",
     "metadata": {},
     "outputs": [
      {
       "output_type": "stream",
       "stream": "stderr",
       "text": [
        "c:\\Anaconda\\lib\\site-packages\\pandas\\util\\decorators.py:53: FutureWarning: cols is deprecated, use subset instead\n",
        "  warnings.warn(msg, FutureWarning)\n"
       ]
      }
     ],
     "prompt_number": 5
    },
    {
     "cell_type": "code",
     "collapsed": false,
     "input": [
      "print len(nap_parcels)\n",
      "print len(nap_buildings)\n",
      "buildings = pd.merge(nap_parcels, nap_buildings,left_on='apn',right_on='feeparcel')\n",
      "##How come there are 96046 buildings, but only 59408 join with parcels via asmt/feeparcel?\n",
      "##Howcome there are duplicate parcel apn's in napa?"
     ],
     "language": "python",
     "metadata": {},
     "outputs": [
      {
       "output_type": "stream",
       "stream": "stdout",
       "text": [
        "49803\n",
        "96046\n"
       ]
      }
     ],
     "prompt_number": 6
    },
    {
     "cell_type": "code",
     "collapsed": false,
     "input": [
      "parcels = nap_parcels[['gid','apn','land_use_type_id','land_value','tax_exempt_status','county_id']]"
     ],
     "language": "python",
     "metadata": {},
     "outputs": [],
     "prompt_number": 7
    },
    {
     "cell_type": "code",
     "collapsed": false,
     "input": [
      "##What are the following building fields- is there a data dictionary? ['numunitsco','numunitsin','numunitsre','sqftoffice']].describe()\n",
      "buildings = buildings.rename(columns={'yearbuilt':'year_built','buildingsi':'building_sqft','sqftoffice':'non_residential_sqft','numunitsre':'residential_units','assessed_value':'improvement_value'})\n",
      "buildings['sqft_per_unit'] = 0\n",
      "buildings = buildings[['apn','year_built','building_sqft','non_residential_sqft','residential_units', 'improvement_value', 'stories', 'sqft_per_unit']]"
     ],
     "language": "python",
     "metadata": {},
     "outputs": [],
     "prompt_number": 8
    },
    {
     "cell_type": "code",
     "collapsed": false,
     "input": [
      "parcels.land_use_type_id[parcels.land_use_type_id=='5C12'] = 512 ###One off fix.  What does '5C12' refer to?"
     ],
     "language": "python",
     "metadata": {},
     "outputs": [
      {
       "output_type": "stream",
       "stream": "stderr",
       "text": [
        "c:\\Anaconda\\lib\\site-packages\\pandas\\core\\series.py:632: SettingWithCopyWarning: A value is trying to be set on a copy of a slice from a DataFrame\n",
        "  self.where(~key, value, inplace=True)\n"
       ]
      }
     ],
     "prompt_number": 9
    },
    {
     "cell_type": "code",
     "collapsed": false,
     "input": [
      "int_fields = ['gid', 'land_use_type_id', 'tax_exempt_status', 'county_id',]\n",
      "for field in int_fields:\n",
      "    parcels[field] = parcels[field].fillna(0).astype('int32')\n",
      "    \n",
      "float_fields = ['land_value']\n",
      "for field in float_fields:\n",
      "    parcels[field] = parcels[field].fillna(0).astype('float32')\n",
      "    \n",
      "int_fields = ['year_built', 'building_sqft', 'non_residential_sqft', 'residential_units', 'stories', 'sqft_per_unit']\n",
      "for field in int_fields:\n",
      "    buildings[field] = buildings[field].fillna(0).astype('int32')\n",
      "    \n",
      "float_fields = ['improvement_value']\n",
      "for field in float_fields:\n",
      "    buildings[field] = buildings[field].fillna(0).astype('float32')"
     ],
     "language": "python",
     "metadata": {},
     "outputs": [
      {
       "output_type": "stream",
       "stream": "stderr",
       "text": [
        "-c:3: SettingWithCopyWarning: A value is trying to be set on a copy of a slice from a DataFrame.\n",
        "Try using .loc[row_index,col_indexer] = value instead\n",
        "-c:7: SettingWithCopyWarning: A value is trying to be set on a copy of a slice from a DataFrame.\n",
        "Try using .loc[row_index,col_indexer] = value instead\n"
       ]
      }
     ],
     "prompt_number": 10
    },
    {
     "cell_type": "code",
     "collapsed": false,
     "input": [
      "def create_parcels_table(parcels_df,table_name):\n",
      "    exec_sql(\"drop table if exists %s\" % table_name)\n",
      "\n",
      "    exec_sql(\"\"\"create table %s (gid integer, apn text, land_use_type_id integer, land_value numeric, tax_exempt_status integer,\n",
      "    county_id integer);\"\"\" % table_name)\n",
      "    \n",
      "    output = cStringIO.StringIO()\n",
      "    parcels_df.to_csv(output, sep='\\t', header=False, index=False)\n",
      "    output.seek(0)\n",
      "    conn=psycopg2.connect(conn_string)\n",
      "    cur = conn.cursor()\n",
      "    cur.copy_from(output, table_name, columns =tuple(parcels_df.columns.values.tolist()))\n",
      "    conn.commit()\n",
      "    \n",
      "#Load formatted table back to db\n",
      "create_parcels_table(parcels, 'parcels_napa_formatted')"
     ],
     "language": "python",
     "metadata": {},
     "outputs": [],
     "prompt_number": 11
    },
    {
     "cell_type": "code",
     "collapsed": false,
     "input": [
      "def create_buildings_table(parcels_df,table_name):\n",
      "    exec_sql(\"drop table if exists %s\" % table_name)\n",
      "\n",
      "    exec_sql(\"\"\"create table %s (building_id  SERIAL PRIMARY KEY, apn text, year_built integer, building_sqft integer, non_residential_sqft integer,\n",
      "    residential_units integer, improvement_value numeric, stories integer, sqft_per_unit integer);\"\"\" % table_name)\n",
      "    \n",
      "    output = cStringIO.StringIO()\n",
      "    parcels_df.to_csv(output, sep='\\t', header=False, index=False)\n",
      "    output.seek(0)\n",
      "    conn=psycopg2.connect(conn_string)\n",
      "    cur = conn.cursor()\n",
      "    cur.copy_from(output, table_name, columns =tuple(parcels_df.columns.values.tolist()))\n",
      "    conn.commit()\n",
      "    \n",
      "#Load formatted table back to db\n",
      "create_buildings_table(buildings, 'buildings_napa_formatted')"
     ],
     "language": "python",
     "metadata": {},
     "outputs": [],
     "prompt_number": 20
    },
    {
     "cell_type": "code",
     "collapsed": false,
     "input": [
      "\"\"\"\n",
      "parcel fields\n",
      "gid integer, land_value numeric, land_use_type_id integer, tax_exempt_status integer, apn text, county_id integer\n",
      "\n",
      "\n",
      "\n",
      "building fields\n",
      "residential_units integer, building_sqft integer, improvement_value numeric, year_built integer, stories integer, sqft_per_unit integer,\n",
      "non_residential_sqft integer\n",
      "\n",
      "\n",
      "\"\"\""
     ],
     "language": "python",
     "metadata": {},
     "outputs": [
      {
       "metadata": {},
       "output_type": "pyout",
       "prompt_number": 13,
       "text": [
        "'\\nparcel fields\\ngid integer, land_value numeric, land_use_type_id integer, tax_exempt_status integer, apn text, county_id integer\\n\\n\\n\\nbuilding fields\\nresidential_units integer, building_sqft integer, improvement_value numeric, year_built integer, stories integer, sqft_per_unit integer,\\nnon_residential_sqft integer\\n\\n\\n'"
       ]
      }
     ],
     "prompt_number": 13
    },
    {
     "cell_type": "code",
     "collapsed": false,
     "input": [
      "#Add the geometry from parcels table (the table with polygons) \n",
      "exec_sql(\"SELECT AddGeometryColumn ('public','parcels_napa_formatted','geom',2227,'MULTIPOLYGON',2)\")\n",
      "exec_sql(\"update parcels_napa_formatted set geom = b.geom from staging.parcels_napa b where parcels_napa_formatted.gid = b.gid\")\n",
      "exec_sql(\"CREATE INDEX pnap_gix ON parcels_napa_formatted USING GIST (geom);\")"
     ],
     "language": "python",
     "metadata": {},
     "outputs": [],
     "prompt_number": 14
    },
    {
     "cell_type": "code",
     "collapsed": false,
     "input": [
      "exec_sql(\"ALTER TABLE parcels_napa_formatted ADD PRIMARY KEY (gid)\")"
     ],
     "language": "python",
     "metadata": {},
     "outputs": [
      {
       "ename": "ProgrammingError",
       "evalue": "multiple primary keys for table \"parcels_napa_formatted\" are not allowed\n",
       "output_type": "pyerr",
       "traceback": [
        "\u001b[1;31m---------------------------------------------------------------------------\u001b[0m\n\u001b[1;31mProgrammingError\u001b[0m                          Traceback (most recent call last)",
        "\u001b[1;32m<ipython-input-16-17edac8399b5>\u001b[0m in \u001b[0;36m<module>\u001b[1;34m()\u001b[0m\n\u001b[1;32m----> 1\u001b[1;33m \u001b[0mexec_sql\u001b[0m\u001b[1;33m(\u001b[0m\u001b[1;34m\"ALTER TABLE parcels_napa_formatted ADD PRIMARY KEY (gid)\"\u001b[0m\u001b[1;33m)\u001b[0m\u001b[1;33m\u001b[0m\u001b[0m\n\u001b[0m",
        "\u001b[1;32m<ipython-input-1-5f1f11d884dd>\u001b[0m in \u001b[0;36mexec_sql\u001b[1;34m(query)\u001b[0m\n\u001b[0;32m     14\u001b[0m     \u001b[0mconn\u001b[0m\u001b[1;33m=\u001b[0m\u001b[0mpsycopg2\u001b[0m\u001b[1;33m.\u001b[0m\u001b[0mconnect\u001b[0m\u001b[1;33m(\u001b[0m\u001b[0mconn_string\u001b[0m\u001b[1;33m)\u001b[0m\u001b[1;33m\u001b[0m\u001b[0m\n\u001b[0;32m     15\u001b[0m     \u001b[0mcur\u001b[0m \u001b[1;33m=\u001b[0m \u001b[0mconn\u001b[0m\u001b[1;33m.\u001b[0m\u001b[0mcursor\u001b[0m\u001b[1;33m(\u001b[0m\u001b[1;33m)\u001b[0m\u001b[1;33m\u001b[0m\u001b[0m\n\u001b[1;32m---> 16\u001b[1;33m     \u001b[0mcur\u001b[0m\u001b[1;33m.\u001b[0m\u001b[0mexecute\u001b[0m\u001b[1;33m(\u001b[0m\u001b[0mquery\u001b[0m\u001b[1;33m)\u001b[0m\u001b[1;33m\u001b[0m\u001b[0m\n\u001b[0m\u001b[0;32m     17\u001b[0m     \u001b[0mconn\u001b[0m\u001b[1;33m.\u001b[0m\u001b[0mcommit\u001b[0m\u001b[1;33m(\u001b[0m\u001b[1;33m)\u001b[0m\u001b[1;33m\u001b[0m\u001b[0m\n\u001b[0;32m     18\u001b[0m     \u001b[0mcur\u001b[0m\u001b[1;33m.\u001b[0m\u001b[0mclose\u001b[0m\u001b[1;33m(\u001b[0m\u001b[1;33m)\u001b[0m\u001b[1;33m\u001b[0m\u001b[0m\n",
        "\u001b[1;31mProgrammingError\u001b[0m: multiple primary keys for table \"parcels_napa_formatted\" are not allowed\n"
       ]
      }
     ],
     "prompt_number": 16
    }
   ],
   "metadata": {}
  }
 ]
}