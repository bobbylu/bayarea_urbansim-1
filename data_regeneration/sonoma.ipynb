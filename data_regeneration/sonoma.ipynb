{
 "metadata": {
  "name": "",
  "signature": "sha256:6d25e7a94cd80677023dc18a164af45c78cebf86ab1d7a035ee541294367d033"
 },
 "nbformat": 3,
 "nbformat_minor": 0,
 "worksheets": [
  {
   "cells": [
    {
     "cell_type": "code",
     "collapsed": false,
     "input": [
      "import pandas as pd, numpy as np\n",
      "import psycopg2\n",
      "from spandex import utils, spatialtoolz\n",
      "from spandex.database import database as db\n",
      "import numpy as np\n",
      "import cStringIO\n",
      "import pandas.io.sql as sql\n",
      "import dbf\n",
      "\n",
      "conn_string = \"host='localhost' dbname='bayarea_test' user='postgres' password='postgres' port=5432\"\n",
      "# db.connect(conn_string)\n",
      "\n",
      "def exec_sql(query):\n",
      "    conn=psycopg2.connect(conn_string)\n",
      "    cur = conn.cursor()\n",
      "    cur.execute(query)\n",
      "    conn.commit()\n",
      "    cur.close()\n",
      "    conn.close()\n",
      "    \n",
      "def db_to_df(query):\n",
      "    conn=psycopg2.connect(conn_string)\n",
      "    df = sql.read_frame(query, conn)\n",
      "    conn.close()\n",
      "    return df"
     ],
     "language": "python",
     "metadata": {},
     "outputs": [],
     "prompt_number": 1
    },
    {
     "cell_type": "code",
     "collapsed": false,
     "input": [
      "sonoma_attribs = pd.read_csv('C:\\\\mtc\\\\data\\\\parcels\\\\sonoma\\\\ABAG_SonomaCounty.txt')"
     ],
     "language": "python",
     "metadata": {},
     "outputs": [
      {
       "output_type": "stream",
       "stream": "stderr",
       "text": [
        "c:\\Anaconda\\lib\\site-packages\\pandas\\io\\parsers.py:1130: DtypeWarning: Columns (3) have mixed types. Specify dtype option on import or set low_memory=False.\n",
        "  data = self._reader.read(nrows)\n"
       ]
      }
     ],
     "prompt_number": 2
    },
    {
     "cell_type": "code",
     "collapsed": false,
     "input": [
      "sonoma_attribs.dtypes"
     ],
     "language": "python",
     "metadata": {},
     "outputs": [
      {
       "metadata": {},
       "output_type": "pyout",
       "prompt_number": 3,
       "text": [
        "FeeParcel                   int64\n",
        "MergedSitus                object\n",
        "SitusCityCode              object\n",
        "LandUse                    object\n",
        "LandUseDesc                object\n",
        "Zoning                     object\n",
        "LandSqft                  float64\n",
        ".ResidentialStructures    float64\n",
        "YearBuilt                 float64\n",
        "EffectiveYear             float64\n",
        ".Units                    float64\n",
        "BuildingSizePRIMARY       float64\n",
        "BuildingSizeMisc          float64\n",
        "Bedrooms                  float64\n",
        "Baths                     float64\n",
        "LandValue                 float64\n",
        "StructureValue            float64\n",
        "LastSaleDate               object\n",
        "LastSalesPrice             object\n",
        "OwnerMailingCity           object\n",
        "dtype: object"
       ]
      }
     ],
     "prompt_number": 3
    },
    {
     "cell_type": "code",
     "collapsed": false,
     "input": [
      "print sonoma_attribs.FeeParcel.min()\n",
      "print sonoma_attribs.FeeParcel.max()\n"
     ],
     "language": "python",
     "metadata": {},
     "outputs": [
      {
       "output_type": "stream",
       "stream": "stdout",
       "text": [
        "1011004000\n",
        "183460010000\n"
       ]
      }
     ],
     "prompt_number": 4
    },
    {
     "cell_type": "code",
     "collapsed": false,
     "input": [
      "##Parcels\n",
      "son_parcels = db_to_df(\"select * FROM staging.parcels_sonoma;\")"
     ],
     "language": "python",
     "metadata": {},
     "outputs": [
      {
       "output_type": "stream",
       "stream": "stderr",
       "text": [
        "c:\\Anaconda\\lib\\site-packages\\pandas\\io\\sql.py:1165: FutureWarning: read_frame is depreciated, use read_sql\n",
        "  warnings.warn(\"read_frame is depreciated, use read_sql\", FutureWarning)\n"
       ]
      }
     ],
     "prompt_number": 5
    },
    {
     "cell_type": "code",
     "collapsed": false,
     "input": [
      "apns = []\n",
      "keywords = ['ROW', 'GAP', 'COM', 'UNP', 'RRX', 'H2O', 'WCT', 'OUT', 'SBE']\n",
      "for apn in son_parcels.apn:\n",
      "    if any(word in apn for word in keywords):\n",
      "        apns.append(-1)\n",
      "    else:\n",
      "        apn = apn.replace(\"-\",\"\")\n",
      "        apns.append(int(apn))\n",
      "        \n",
      "apns = np.array(apns)\n",
      "son_parcels['apn_num'] = apns"
     ],
     "language": "python",
     "metadata": {},
     "outputs": [],
     "prompt_number": 6
    },
    {
     "cell_type": "code",
     "collapsed": false,
     "input": [
      "apns = []\n",
      "for apn in sonoma_attribs.FeeParcel:\n",
      "    apn = str(apn)\n",
      "    apn = apn[:-3]\n",
      "    apns.append(int(apn))\n",
      "apns = np.array(apns)\n",
      "sonoma_attribs['feeparcel_num'] = apns"
     ],
     "language": "python",
     "metadata": {},
     "outputs": [],
     "prompt_number": 7
    },
    {
     "cell_type": "code",
     "collapsed": false,
     "input": [
      "print len(son_parcels)\n",
      "print len(sonoma_attribs)\n",
      "merged = pd.merge(son_parcels, sonoma_attribs,left_on='apn_num', right_on ='feeparcel_num')\n",
      "print len(merged)"
     ],
     "language": "python",
     "metadata": {},
     "outputs": [
      {
       "output_type": "stream",
       "stream": "stdout",
       "text": [
        "191527\n",
        "176952\n",
        "177204"
       ]
      },
      {
       "output_type": "stream",
       "stream": "stdout",
       "text": [
        "\n"
       ]
      }
     ],
     "prompt_number": 8
    },
    {
     "cell_type": "code",
     "collapsed": false,
     "input": [
      "print merged.columns\n",
      "merged = merged[['gid','apn','LandUse', 'BuildingSizePRIMARY', '.Units', 'YearBuilt', 'StructureValue', 'LandValue', ]]\n",
      "merged = merged.rename(columns={'LandUse':'land_use_type_id','BuildingSizePRIMARY':'building_sqft','LandValue':'land_value','.Units':'residential_units','StructureValue':'improvement_value','YearBuilt':'year_built'})"
     ],
     "language": "python",
     "metadata": {},
     "outputs": [
      {
       "output_type": "stream",
       "stream": "stdout",
       "text": [
        "Index([u'gid', u'objectid', u'apn', u'levelnum', u'rank', u'adjust', u'subdivisio', u'changetype', u'ts', u'shape_area', u'shape_len', u'geom', u'apn_num', u'FeeParcel', u'MergedSitus', u'SitusCityCode', u'LandUse', u'LandUseDesc', u'Zoning', u'LandSqft', u'.ResidentialStructures', u'YearBuilt', u'EffectiveYear', u'.Units', u'BuildingSizePRIMARY', u'BuildingSizeMisc', u'Bedrooms', u'Baths', u'LandValue', u'StructureValue', u'LastSaleDate', u'LastSalesPrice', u'OwnerMailingCity', u'feeparcel_num'], dtype='object')\n"
       ]
      }
     ],
     "prompt_number": 9
    },
    {
     "cell_type": "code",
     "collapsed": false,
     "input": [
      "merged['tax_exempt_status'] = 0\n",
      "merged['county_id'] = 97\n",
      "merged['sqft_per_unit'] = 0\n",
      "merged['stories'] = 1\n",
      "merged['non_residential_sqft'] = 0\n",
      "merged.non_residential_sqft[merged.residential_units==0] = merged.building_sqft[merged.residential_units==0] "
     ],
     "language": "python",
     "metadata": {},
     "outputs": [],
     "prompt_number": 10
    },
    {
     "cell_type": "code",
     "collapsed": false,
     "input": [
      "parcels = merged\n",
      "parcels.land_use_type_id[parcels.land_use_type_id=='    '] = 0\n",
      "int_fields = ['gid','residential_units','building_sqft','year_built','land_use_type_id','tax_exempt_status','stories','county_id','sqft_per_unit', 'non_residential_sqft']\n",
      "for field in int_fields:\n",
      "    parcels[field] = parcels[field].fillna(0).astype('int32')\n",
      "    \n",
      "float_fields = ['improvement_value', 'land_value']\n",
      "for field in float_fields:\n",
      "    parcels[field] = parcels[field].fillna(0).astype('float32')"
     ],
     "language": "python",
     "metadata": {},
     "outputs": [
      {
       "output_type": "stream",
       "stream": "stdout",
       "text": [
        "gid\n",
        "residential_units\n",
        "building_sqft\n",
        "year_built\n",
        "land_use_type_id\n",
        "tax_exempt_status"
       ]
      },
      {
       "output_type": "stream",
       "stream": "stdout",
       "text": [
        "\n",
        "stories\n",
        "county_id\n",
        "sqft_per_unit\n",
        "non_residential_sqft\n"
       ]
      }
     ],
     "prompt_number": 11
    },
    {
     "cell_type": "code",
     "collapsed": false,
     "input": [
      "def create_parcels_table(parcels_df,table_name):\n",
      "    exec_sql(\"drop table if exists %s\" % table_name)\n",
      "\n",
      "    exec_sql(\"\"\"create table %s (gid integer, residential_units integer, building_sqft integer, improvement_value numeric,\n",
      "    land_value numeric, year_built integer, land_use_type_id integer, tax_exempt_status integer, stories integer,\n",
      "    apn text, county_id integer, sqft_per_unit integer, non_residential_sqft integer);\"\"\" % table_name)\n",
      "    \n",
      "    output = cStringIO.StringIO()\n",
      "    parcels_df.to_csv(output, sep='\\t', header=False, index=False)\n",
      "    output.seek(0)\n",
      "    conn=psycopg2.connect(conn_string)\n",
      "    cur = conn.cursor()\n",
      "    cur.copy_from(output, table_name, columns =tuple(parcels_df.columns.values.tolist()))\n",
      "    conn.commit()\n",
      "    \n",
      "#Load formatted table back to db\n",
      "create_parcels_table(parcels, 'parcels_sonoma_formatted')"
     ],
     "language": "python",
     "metadata": {},
     "outputs": [],
     "prompt_number": 12
    },
    {
     "cell_type": "code",
     "collapsed": false,
     "input": [
      "#Add the geometry from parcels table (the table with polygons) \n",
      "exec_sql(\"SELECT AddGeometryColumn ('public','parcels_sonoma_formatted','geom',2227,'MULTIPOLYGON',2)\")\n",
      "exec_sql(\"update parcels_sonoma_formatted set geom = b.geom from staging.parcels_sonoma b where parcels_sonoma_formatted.gid = b.gid\")\n",
      "exec_sql(\"CREATE INDEX pson_gix ON parcels_sonoma_formatted USING GIST (geom);\")"
     ],
     "language": "python",
     "metadata": {},
     "outputs": [],
     "prompt_number": 13
    },
    {
     "cell_type": "code",
     "collapsed": false,
     "input": [
      "ALTER TABLE Persons\n",
      "DROP CONSTRAINT pk_PersonID\n",
      "\n",
      "exec_sql(\"ALTER TABLE parcels_sonoma_formatted ADD PRIMARY KEY (gid)\")"
     ],
     "language": "python",
     "metadata": {},
     "outputs": [],
     "prompt_number": 14
    }
   ],
   "metadata": {}
  }
 ]
}