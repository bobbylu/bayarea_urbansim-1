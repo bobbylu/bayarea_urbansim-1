{
 "metadata": {
  "name": "",
  "signature": "sha256:aa625d1d6734b277a3d40a6822df802ec2d2ab4d11048622fe122478e0ea2bec"
 },
 "nbformat": 3,
 "nbformat_minor": 0,
 "worksheets": [
  {
   "cells": [
    {
     "cell_type": "code",
     "collapsed": false,
     "input": [
      "import os\n",
      "from spandex import TableLoader\n",
      "from spandex.io import exec_sql #spandex localhost exec_sql func\n",
      "from spandex.utils import load_config\n",
      "import psycopg2\n",
      "\n",
      "loader = TableLoader()\n",
      "\n",
      "\n",
      "### UrbanCanvas\n",
      "\n",
      "## spandex localhost db config\n",
      "db_config = dict(load_config().items('database'))  \n",
      "\n",
      "## UrbanCanvas db config\n",
      "urbancanvas_db_config = {'database': 'mtc',\n",
      "                         'host': '67.225.185.54',\n",
      "                         'password': 'Urb27MTC',\n",
      "                         'port': '5432',\n",
      "                         'user': 'mtc'}\n",
      "\n",
      "## if 'loading' schema not on localhost db, create.  This schema is for tables to load to UrbanCanvas\n",
      "exec_sql(\"CREATE SCHEMA IF NOT EXISTS loading;\")  "
     ],
     "language": "python",
     "metadata": {},
     "outputs": [
      {
       "output_type": "stream",
       "stream": "stderr",
       "text": [
        "c:\\Anaconda\\lib\\site-packages\\sqlalchemy\\dialects\\postgresql\\base.py:2048: SAWarning: Did not recognize type 'bpchar' of column 'county_id'\n",
        "  name, format_type, default, notnull, domains, enums, schema)\n",
        "WARNING:spandex.database:Unable to map table to class: Mapper Mapper|public.test|test could not assemble any primary key columns for mapped table 'test'\n"
       ]
      },
      {
       "output_type": "stream",
       "stream": "stderr",
       "text": [
        "WARNING:spandex.database:Unable to map table to class: Mapper Mapper|public.parcels_outside_taz|parcels_outside_taz could not assemble any primary key columns for mapped table 'parcels_outside_taz'\n"
       ]
      },
      {
       "output_type": "stream",
       "stream": "stderr",
       "text": [
        "WARNING:spandex.database:Unable to map table to class: Mapper Mapper|public.aggregation_candidates|aggregation_candidates could not assemble any primary key columns for mapped table 'aggregation_candidates'\n"
       ]
      },
      {
       "output_type": "stream",
       "stream": "stderr",
       "text": [
        "WARNING:spandex.database:Unable to map table to class: Mapper Mapper|loading.zoning|zoning could not assemble any primary key columns for mapped table 'zoning'\n"
       ]
      },
      {
       "output_type": "stream",
       "stream": "stderr",
       "text": [
        "WARNING:spandex.database:Unable to map table to class: Mapper Mapper|public.condos_son|condos_son could not assemble any primary key columns for mapped table 'condos_son'\n"
       ]
      },
      {
       "output_type": "stream",
       "stream": "stderr",
       "text": [
        "WARNING:spandex.database:Unable to map table to class: Mapper Mapper|public.stacked|stacked could not assemble any primary key columns for mapped table 'stacked'\n"
       ]
      },
      {
       "output_type": "stream",
       "stream": "stderr",
       "text": [
        "WARNING:spandex.database:Unable to map table to class: Mapper Mapper|public.condos_cnc|condos_cnc could not assemble any primary key columns for mapped table 'condos_cnc'\n"
       ]
      },
      {
       "output_type": "stream",
       "stream": "stderr",
       "text": [
        "WARNING:spandex.database:Unable to map table to class: Mapper Mapper|public.stacked_merged|stacked_merged could not assemble any primary key columns for mapped table 'stacked_merged'\n"
       ]
      },
      {
       "output_type": "stream",
       "stream": "stderr",
       "text": [
        "WARNING:spandex.database:Unable to map table to class: Mapper Mapper|public.condos_scl|condos_scl could not assemble any primary key columns for mapped table 'condos_scl'\n"
       ]
      },
      {
       "output_type": "stream",
       "stream": "stderr",
       "text": [
        "WARNING:spandex.database:Unable to map table to class: Mapper Mapper|staging.condos_cnc|condos_cnc could not assemble any primary key columns for mapped table 'condos_cnc'\n"
       ]
      }
     ],
     "prompt_number": 1
    },
    {
     "cell_type": "code",
     "collapsed": false,
     "input": [
      "#UrbanCanvas exec_sql func, for executing sql on UrbanCanvas database\n",
      "def exec_sql2(query):\n",
      "    print query\n",
      "    conn_string = \"host=67.225.185.54 dbname='mtc' user='mtc' password='Urb27MTC' port=5432\"\n",
      "    import psycopg2\n",
      "    conn=psycopg2.connect(conn_string)\n",
      "    cur = conn.cursor()\n",
      "    cur.execute(query)\n",
      "    conn.commit()\n",
      "    cur.close()\n",
      "    conn.close()\n",
      "\n",
      "\n",
      "\"\"\"\n",
      "Exports specified tables from localhost database to the UrbanCanvas\n",
      "database. Assumes the spandex data directory has an 'out' folder.\n",
      "A 'loading' schema must exist on both localhost and UrbanCanvas.\n",
      "\n",
      "Parameters\n",
      "----------\n",
      "table_name : str\n",
      "    Name of table to export to UrbanCanvas.\n",
      "table_schema : str\n",
      "    Name of schema on localhost that the table resides in.\n",
      "localhost_db_config : dict\n",
      "    Dictionary of localhost database configuration settings.\n",
      "    Should have the following keys:  'database', 'host', 'user',\n",
      "    'pass', 'port'.\n",
      "urbancanvas_db_config : dict\n",
      "    Dictionary of UrbanCanvas database configuration settings.\n",
      "    Should have the following keys:  'database', 'host', 'user',\n",
      "    'pass', 'port'.\n",
      "exec_sql_localhost_fn : function\n",
      "    Function that executes sql on localhost db based on sql \n",
      "    string argument.\n",
      "exec_sql_urbancanvas_fn : function\n",
      "    Function that executes sql on UrbanCanvas db based on sql \n",
      "    string argument.\n",
      "src_table_name : str, Optional\n",
      "    Name of source table to export to UrbanCanvas db if name of\n",
      "    table is different on localhost than on UrbanCanvas.\n",
      "\n",
      "Returns\n",
      "-------\n",
      "None\n",
      "\n",
      "\"\"\"\n",
      "def localhost_to_urbancanvas_db(table_name, table_schema, localhost_db_config, urbancanvas_db_config, exec_sql_localhost_fn, exec_sql_urbancanvas_fn, src_table_name = None):\n",
      "    exec_sql_localhost_fn(\"drop table if exists loading.%s;\" % table_name)\n",
      "\n",
      "    if src_table_name is not None:\n",
      "        exec_sql_localhost_fn(\"SELECT * INTO loading.%s FROM %s.%s;\" % (table_name, table_schema, src_table_name))\n",
      "    else:\n",
      "        exec_sql_localhost_fn(\"SELECT * INTO loading.%s FROM %s.%s;\" % (table_name, table_schema, table_name))\n",
      "\n",
      "    postgres_backup = loader.get_path('out/%s.backup' % table_name)\n",
      "    os.system('pg_dump --host %s --port %s --username \"%s\" --format custom --verbose --file \"%s\" --table \"loading.%s\" \"%s\"' % \n",
      "              (db_config['host'], db_config['port'], db_config['user'], postgres_backup, table_name, db_config['database'])) \n",
      "\n",
      "    exec_sql_urbancanvas_fn(\"drop table if exists loading.%s;\" % table_name)\n",
      "\n",
      "    os.system('pg_restore --host %s --port %s --username \"%s\" --dbname \"%s\" --role \"%s\" --no-password  --verbose \"%s\"' % \n",
      "              (urbancanvas_db_config['host'], urbancanvas_db_config['port'], urbancanvas_db_config['user'], urbancanvas_db_config['database'], urbancanvas_db_config['user'], postgres_backup))\n",
      "\n",
      "\n",
      "## Export tables from localhost database to UrbanCanvas database\n",
      "localhost_to_urbancanvas_db('zoning', 'public', db_config, urbancanvas_db_config, exec_sql, exec_sql2)"
     ],
     "language": "python",
     "metadata": {},
     "outputs": [
      {
       "output_type": "stream",
       "stream": "stdout",
       "text": [
        "drop table if exists loading.zoning;\n"
       ]
      }
     ],
     "prompt_number": 2
    },
    {
     "cell_type": "code",
     "collapsed": false,
     "input": [
      "localhost_to_urbancanvas_db('building', 'public', db_config, urbancanvas_db_config, exec_sql, exec_sql2)"
     ],
     "language": "python",
     "metadata": {},
     "outputs": [
      {
       "output_type": "stream",
       "stream": "stdout",
       "text": [
        "drop table if exists loading.building;\n"
       ]
      }
     ],
     "prompt_number": 3
    },
    {
     "cell_type": "code",
     "collapsed": false,
     "input": [
      "localhost_to_urbancanvas_db('parcel', 'public', db_config, urbancanvas_db_config, exec_sql, exec_sql2)"
     ],
     "language": "python",
     "metadata": {},
     "outputs": []
    }
   ],
   "metadata": {}
  }
 ]
}