{
 "metadata": {
  "name": "",
  "signature": "sha256:baed8a44afe903b497191ff56e39b08f864c6b0bf2d360d66b90a1892e7da216"
 },
 "nbformat": 3,
 "nbformat_minor": 0,
 "worksheets": [
  {
   "cells": [
    {
     "cell_type": "code",
     "collapsed": false,
     "input": [
      "import pandas as pd\n",
      "import psycopg2\n",
      "from spandex import utils, spatialtoolz\n",
      "from spandex.database import database as db\n",
      "import numpy as np\n",
      "import cStringIO\n",
      "\n",
      "conn_string = \"host='localhost' dbname='bayarea' user='postgres' password='postgres' port=5432\"\n",
      "db.connect(conn_string)"
     ],
     "language": "python",
     "metadata": {},
     "outputs": [],
     "prompt_number": 1
    },
    {
     "cell_type": "code",
     "collapsed": false,
     "input": [
      "data_dir = 'C:\\\\mtc\\\\data'\n",
      "config_dir = 'C:\\\\mtc\\\\bayarea_urbansim\\\\data_regeneration\\\\configs'\n",
      "\n",
      "#Unautomated step to automate:  Convert personal geodatabase (Parcels_04_10.mdb) to shapefiles\n",
      "\n",
      "#Unautomated step to automate:  Identify SRID's by loading the shapefile .prj file to http://prj2epsg.org/search\n",
      "\n",
      "shapefiles = {'parcels' : \n",
      "                  {'contra_costa':('CAD_AO_ParcelPoly_0410.shp', 2227),  ##SRID 2227.  #Contains the parcel geometry we need\n",
      "                  'contra_costa_pt':('CAD_AO_ParcelPoints_int0410.shp', 2227),  ##SRID 2227  #Contains the attribute data in ownership records\n",
      "                  }\n",
      "             }\n",
      "\n",
      "#Load shapefiles/SRIDs specified above to the project database\n",
      "utils.load_multiple_shp(shapefiles, data_dir, config_dir)\n",
      "\n",
      "#Reproject to project SRID\n",
      "spatialtoolz.conform_srids(config_dir, schema='public')"
     ],
     "language": "python",
     "metadata": {},
     "outputs": [
      {
       "output_type": "stream",
       "stream": "stdout",
       "text": [
        "Loading contra_costa.\n",
        "Loading contra_costa_pt."
       ]
      },
      {
       "output_type": "stream",
       "stream": "stdout",
       "text": [
        "\n"
       ]
      }
     ],
     "prompt_number": 2
    },
    {
     "cell_type": "code",
     "collapsed": false,
     "input": [
      "#Parcel ownership records and attributes lie with the point data, 'contra_costa_pt'.  Select columns based on data dictionary\n",
      "cnc_parcels = spatialtoolz.db_to_df(\"SELECT use_code, tla, bldg_sqft, yr_hs_blt, yr_built, imp_val, land_value, stories, units, apn, n_tax_code, parc_py_id FROM parcels_contra_costa_pt;\")"
     ],
     "language": "python",
     "metadata": {},
     "outputs": [],
     "prompt_number": 3
    },
    {
     "cell_type": "code",
     "collapsed": false,
     "input": [
      "residential_land_use_type_ids = range(10, 30) #from excel data dictionary, see tab 5 of Internal_Parcel_Attributes_2005_1.xls"
     ],
     "language": "python",
     "metadata": {},
     "outputs": [],
     "prompt_number": 4
    },
    {
     "cell_type": "code",
     "collapsed": false,
     "input": [
      "#land_use_type_id:use_code\n",
      "cnc_parcels = cnc_parcels.rename(columns={'use_code':'land_use_type_id'})\n",
      "cnc_parcels.land_use_type_id = cnc_parcels.land_use_type_id.fillna(0).astype('int')\n",
      "\n",
      "#tax_exempt_status:n_tax_code\n",
      "cnc_parcels['tax_exempt_status'] = 1*cnc_parcels.n_tax_code.notnull()\n",
      "\n",
      "#improvement_value:imp_val\n",
      "cnc_parcels = cnc_parcels.rename(columns={'imp_val':'improvement_value'})\n",
      "\n",
      "#Residential records have a different set of attributes; separate res from nonres for different treatment\n",
      "cnc_parcels['res'] = 1*np.in1d(cnc_parcels.land_use_type_id,residential_land_use_type_ids)\n",
      "res_records = cnc_parcels[cnc_parcels.res==1]\n",
      "nonres_records = cnc_parcels[cnc_parcels.res==0]\n",
      "\n",
      "#building_sqft:tla where res==1  #building_sqft:bldg_sqft where res==0\n",
      "res_records = res_records.rename(columns={'tla':'building_sqft'})\n",
      "nonres_records = nonres_records.rename(columns={'bldg_sqft':'building_sqft'})\n",
      "\n",
      "#year_built:yr_hs_blt where res==1  #year_built:yr_built where res==0\n",
      "res_records = res_records.rename(columns={'yr_hs_blt':'year_built'})\n",
      "nonres_records = nonres_records.rename(columns={'yr_built':'year_built'})\n",
      "\n",
      "#stories not available for res units, set to default of 1  #stories field already in place for non-res\n",
      "res_records['stories'] = 1\n",
      "\n",
      "#residential_units:1 where res==1  #residential_units:units where res==0\n",
      "res_records['residential_units'] = 1  ##includes mf so need to check this...\n",
      "nonres_records = nonres_records.rename(columns={'units':'residential_units'})\n",
      "\n",
      "required_fields = ['residential_units','improvement_value','year_built','land_use_type_id','apn','land_value', 'stories','building_sqft','tax_exempt_status','parc_py_id']\n",
      "res_records = res_records[required_fields]\n",
      "nonres_records = nonres_records[required_fields]\n",
      "\n",
      "#Concatenate the two types of parcels back together now that naming is consistent\n",
      "parcels = pd.concat([res_records, nonres_records])\n",
      "parcels.year_built = parcels.year_built.fillna(0).astype('int')\n",
      "\n",
      "#Group ownership units up to the parcel level\n",
      "parcels_groupby = parcels.groupby('parc_py_id')\n",
      "parcels = pd.DataFrame(index=np.unique(parcels.parc_py_id))\n",
      "take_sum = ['residential_units','building_sqft','improvement_value','land_value']\n",
      "take_median = ['year_built','land_use_type_id','tax_exempt_status','stories']\n",
      "take_first = ['apn',]\n",
      "for col in take_sum:\n",
      "    parcels[col] = parcels_groupby[col].sum()\n",
      "for col in take_median:\n",
      "    parcels[col] = parcels_groupby[col].median()\n",
      "for col in take_first:\n",
      "    parcels[col] = parcels_groupby[col].first()"
     ],
     "language": "python",
     "metadata": {},
     "outputs": [],
     "prompt_number": 5
    },
    {
     "cell_type": "code",
     "collapsed": false,
     "input": [
      "parcels['county_id'] = 13\n",
      "parcels['sqft_per_unit'] = 0\n",
      "parcels.sqft_per_unit[np.in1d(parcels.land_use_type_id, residential_land_use_type_ids)] = (parcels.building_sqft/parcels.residential_units)[np.in1d(parcels.land_use_type_id, residential_land_use_type_ids)]\n",
      "parcels['non_residential_sqft'] = 0 \n",
      "parcels.non_residential_sqft[parcels.land_use_type_id>29] = parcels.building_sqft[parcels.land_use_type_id>29] ##30 and up are non-res land use types\n",
      "#TODO:  map land_use_type_id to the regional typology"
     ],
     "language": "python",
     "metadata": {},
     "outputs": [],
     "prompt_number": 6
    },
    {
     "cell_type": "code",
     "collapsed": false,
     "input": [
      "int_fields = ['residential_units','building_sqft','year_built','land_use_type_id','tax_exempt_status','stories','county_id','sqft_per_unit', 'non_residential_sqft']\n",
      "for field in int_fields:\n",
      "    parcels[field] = parcels[field].fillna(0).astype('int')"
     ],
     "language": "python",
     "metadata": {},
     "outputs": [],
     "prompt_number": 7
    },
    {
     "cell_type": "code",
     "collapsed": false,
     "input": [
      "def create_parcels_table(parcels_df,table_name):\n",
      "    spatialtoolz.exec_sql(\"drop table if exists %s\" % table_name)\n",
      "\n",
      "    spatialtoolz.exec_sql(\"\"\"create table %s (parc_py_id integer, residential_units integer, building_sqft integer, improvement_value numeric,\n",
      "    land_value numeric, year_built integer, land_use_type_id integer, tax_exempt_status integer, stories integer,\n",
      "    apn text, county_id integer, sqft_per_unit integer, non_residential_sqft integer);\"\"\" % table_name)\n",
      "    \n",
      "    output = cStringIO.StringIO()\n",
      "    parcels_df.to_csv(output, sep='\\t', header=False, index=False)\n",
      "    output.seek(0)\n",
      "    with db.cursor() as cur:\n",
      "        cur.copy_from(output, table_name, columns =tuple(parcels_df.columns.values.tolist()))"
     ],
     "language": "python",
     "metadata": {},
     "outputs": [],
     "prompt_number": 8
    },
    {
     "cell_type": "code",
     "collapsed": false,
     "input": [
      "#Load formatted table back to db\n",
      "parcels = parcels.reset_index().rename(columns={'index':'parc_py_id'})\n",
      "parcels.parc_py_id = parcels.parc_py_id.astype('int')\n",
      "create_parcels_table(parcels, 'parcels_contra_costa_formatted')"
     ],
     "language": "python",
     "metadata": {},
     "outputs": [],
     "prompt_number": 9
    },
    {
     "cell_type": "code",
     "collapsed": false,
     "input": [
      "#Add the geometry from parcels_contra_costa table (the table with polygons)\n",
      "spatialtoolz.exec_sql(\"SELECT AddGeometryColumn ('public','parcels_contra_costa_formatted','geom',3740,'MULTIPOLYGON',2)\")\n",
      "spatialtoolz.exec_sql(\"update parcels_contra_costa_formatted set geom = b.geom from parcels_contra_costa b where parcels_contra_costa_formatted.parc_py_id = b.parc_py_id\")\n",
      "spatialtoolz.exec_sql(\"CREATE INDEX pcc_gix ON parcels_contra_costa_formatted USING GIST (geom);\")"
     ],
     "language": "python",
     "metadata": {},
     "outputs": [],
     "prompt_number": 10
    }
   ],
   "metadata": {}
  }
 ]
}